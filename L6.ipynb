{
 "cells": [
  {
   "cell_type": "markdown",
   "metadata": {},
   "source": [
    "# Lecture 6\n",
    "\n",
    "(Summer 2022)\n",
    "\n",
    "## Outline of Topics\n",
    "\n",
    " - Mapping\n",
    " - Dictionaries\n",
    " \n",
    "For more detail on python please see the Purdue DataMine web link: <a href=\"https://thedatamine.github.io/the-examples-book/python.html\" target=\"_blank\">Data Mine on Python</a>\n",
    "\n",
    "Also see: <a href=\"https://docs.python.org/3/\" target=\"_blank\">Python 3.9.1 Documentation</a>"
   ]
  },
  {
   "cell_type": "code",
   "execution_count": 1,
   "metadata": {},
   "outputs": [],
   "source": [
    "# Bring in the packages we have used before.\n",
    "\n",
    "import math\n",
    "import numpy as np\n",
    "import matplotlib as mpl\n",
    "import matplotlib.pyplot as plt\n",
    "import requests"
   ]
  },
  {
   "cell_type": "markdown",
   "metadata": {},
   "source": [
    "# Simple Mapping?\n",
    "\n",
    "I found a file containing cities and towns and information about them such as:\n",
    "\n",
    "* Their latitude and longitude\n",
    "* The county and the state\n",
    "* The so-called FIPS (which is related to the number associated with counties in the USDA database)"
   ]
  },
  {
   "cell_type": "code",
   "execution_count": 2,
   "metadata": {},
   "outputs": [
    {
     "name": "stdout",
     "output_type": "stream",
     "text": [
      "Geo Point;Geo Shape;GNIS ID;ANSICODE;FEATURE;FEATURE2;NAME;POP 2010;COUNTY;COUNTY FIPS;STATE;STATE FIPS;LATITUDE;LONGITUDE;PopPlLat;PopPlLong;ELEV IN M;ELEV IN FT\n",
      "\n",
      "18\n",
      "['Geo Point', 'Geo Shape', 'GNIS ID', 'ANSICODE', 'FEATURE', 'FEATURE2', 'NAME', 'POP 2010', 'COUNTY', 'COUNTY FIPS', 'STATE', 'STATE FIPS', 'LATITUDE', 'LONGITUDE', 'PopPlLat', 'PopPlLong', 'ELEV IN M', 'ELEV IN FT\\n']\n",
      "\n",
      "18\n",
      "['44.2998540717,-120.834480347', '\"{\"\"type\"\": \"\"Point\"\", \"\"coordinates\"\": [-120.83448034701922, 44.299854071684514]}\"', '1154317', '2411494', 'Civil', 'County Seat', 'Prineville', '9253', 'Crook', '013', 'OR', '41', '44.2998485', '-120.8344664', '44.2998485', '-120.8344664', '878', '2881\\n']\n",
      "\n",
      "18\n",
      "['41.7354923486,-111.834399861', '\"{\"\"type\"\": \"\"Point\"\", \"\"coordinates\"\": [-111.83439986101921, 41.73549234864257]}\"', '1442849', '2410856', 'Civil', 'County Seat', 'Logan', '48174', 'Cache', '005', 'UT', '49', '41.7354862', '-111.834388', '41.7354862', '-111.834388', '1382', '4534\\n']\n",
      "\n",
      "18\n",
      "['39.3688793269,-107.032834728', '\"{\"\"type\"\": \"\"Point\"\", \"\"coordinates\"\": [-107.03283472816561, 39.36887932690348]}\"', '175038', '2411665', 'Civil', '-999', 'Basalt', '3857', 'Eagle', '037', 'CO', '08', '39.3688731', '-107.0328242', '39.3688731', '-107.0328242', '2015', '6611\\n']\n",
      "\n",
      "18\n",
      "['39.5249674187,-111.590484016', '\"{\"\"type\"\": \"\"Point\"\", \"\"coordinates\"\": [-111.59048401567614, 39.524967418674294]}\"', '1430498', '2411167', 'Civil', '-999', 'Moroni', '1423', 'Sanpete', '039', 'UT', '49', '39.5249615', '-111.5904725', '39.5249615', '-111.5904725', '1686', '5531\\n']\n",
      "\n",
      "18\n",
      "['39.6133273999,-105.0166599', '\"{\"\"type\"\": \"\"Point\"\", \"\"coordinates\"\": [-105.01665990019411, 39.61332739990315]}\"', '169446', '2410845', 'Civil', 'County Seat', 'Littleton', '41737', 'Arapahoe', '005', 'CO', '08', '39.613321', '-105.0166498', '39.613321', '-105.0166498', '1631', '5351\\n']\n",
      "\n",
      "18\n",
      "['38.9688581999,-112.323560295', '\"{\"\"type\"\": \"\"Point\"\", \"\"coordinates\"\": [-112.32356029475785, 38.96885819988635]}\"', '1441039', '2410505', 'Civil', 'County Seat', 'Fillmore', '2435', 'Millard', '027', 'UT', '49', '38.9688524', '-112.3235487', '38.9688524', '-112.3235487', '1565', '5134\\n']\n",
      "\n",
      "18\n",
      "['37.9060417454,-122.544989549', '\"{\"\"type\"\": \"\"Point\"\", \"\"coordinates\"\": [-122.54498954934402, 37.906041745400174]}\"', '1659128', '2411109', 'Civil', '-999', 'Mill Valley', '13903', 'Marin', '041', 'CA', '06', '37.9060368', '-122.5449763', '37.9060368', '-122.5449763', '25', '82\\n']\n",
      "\n",
      "18\n",
      "['38.0171490739,-122.288594024', '\"{\"\"type\"\": \"\"Point\"\", \"\"coordinates\"\": [-122.28859402420632, 38.017149073946065]}\"', '1658738', '2410746', 'Civil', '-999', 'Hercules', '24060', 'Contra Costa', '013', 'CA', '06', '38.0171441', '-122.2885808', '38.0171441', '-122.2885808', '24', '79\\n']\n",
      "\n",
      "18\n",
      "['37.3021683419,-120.482980564', '\"{\"\"type\"\": \"\"Point\"\", \"\"coordinates\"\": [-120.48298056363751, 37.302168341858824]}\"', '1659751', '2411080', 'Civil', 'County Seat', 'Merced', '78958', 'Merced', '047', 'CA', '06', '37.3021633', '-120.4829677', '37.3021633', '-120.4829677', '52', '171\\n']\n",
      "\n",
      "18\n",
      "['36.8588426031,-120.456020011', '\"{\"\"type\"\": \"\"Point\"\", \"\"coordinates\"\": [-120.45602001092021, 36.85884260311738]}\"', '277514', '2410507', 'Civil', '-999', 'Firebaugh', '7549', 'Fresno', '019', 'CA', '06', '36.8588376', '-120.4560072', '36.8588376', '-120.4560072', '46', '151\\n']\n",
      "\n",
      "18\n",
      "['36.7045989105,-95.6618246986', '\"{\"\"type\"\": \"\"Point\"\", \"\"coordinates\"\": [-95.6618246985681, 36.70459891045125]}\"', '1096069', '2411285', 'Civil', 'County Seat', 'Nowata', '3731', 'Nowata', '105', 'OK', '40', '36.7045924', '-95.66181719', '36.700645', '-95.6380341', '216', '709\\n']\n",
      "\n",
      "18\n",
      "['35.6224611616,-117.670908828', '\"{\"\"type\"\": \"\"Point\"\", \"\"coordinates\"\": [-117.67090882786816, 35.622461161578585]}\"', '1652783', '2410944', 'Civil', '-999', 'Ridgecrest', '27616', 'Kern', '029', 'CA', '06', '35.6224561', '-117.6708966', '35.6224561', '-117.6708966', '698', '2290\\n']\n",
      "\n",
      "18\n",
      "['35.2597803281,-101.950476863', '\"{\"\"type\"\": \"\"Point\"\", \"\"coordinates\"\": [-101.95047686281514, 35.25978032809662]}\"', '1802734', '2411693', 'Civil', '-999', 'Bishop Hills', '193', 'Potter', '375', 'TX', '48', '35.2597744', '-101.9504679', '35.2597744', '-101.9504679', '1063', '3487\\n']\n",
      "\n",
      "18\n",
      "['34.6126387997,-98.4141216406', '\"{\"\"type\"\": \"\"Point\"\", \"\"coordinates\"\": [-98.41412164061016, 34.61263879965738]}\"', '1094539', '2411638', 'Civil', 'County Seat', 'Lawton', '96867', 'Comanche', '031', 'OK', '40', '34.6126328', '-98.41411359', '34.6086854', '-98.3903305', '339', '1112\\n']\n",
      "\n",
      "18\n",
      "['34.1991766755,-118.187862889', '\"{\"\"type\"\": \"\"Point\"\", \"\"coordinates\"\": [-118.1878628894607, 34.19917667550815]}\"', '1660845', '2411565', 'Civil', '-999', 'La CaÃ±ada Flintridge', '20246', 'Los Angeles', '037', 'CA', '06', '34.1991718', '-118.1878507', '34.1991718', '-118.1878507', '362', '1188\\n']\n",
      "\n",
      "18\n",
      "['33.6130993263,-112.32461528', '\"{\"\"type\"\": \"\"Point\"\", \"\"coordinates\"\": [-112.32461527982079, 33.61309932625894]}\"', '4381', '2410412', 'Civil', '-999', 'El Mirage', '31797', 'Maricopa', '013', 'AZ', '04', '33.6130942', '-112.3246042', '33.6130942', '-112.3246042', '349', '1145\\n']\n",
      "\n",
      "18\n",
      "['33.6609448586,-95.5555202615', '\"{\"\"type\"\": \"\"Point\"\", \"\"coordinates\"\": [-95.55552026153137, 33.66094485861234]}\"', '1364810', '2411371', 'Civil', 'County Seat', 'Paris', '25171', 'Lamar', '277', 'TX', '48', '33.6609389', '-95.555513', '33.6609389', '-95.555513', '183', '600\\n']\n",
      "\n",
      "18\n",
      "['32.4373487948,-103.159088846', '\"{\"\"type\"\": \"\"Point\"\", \"\"coordinates\"\": [-103.15908884568753, 32.437348794811435]}\"', '899630', '2410462', 'Civil', '-999', 'Eunice', '2922', 'Lea', '025', 'NM', '35', '32.4373434', '-103.1590798', '32.4373434', '-103.1590798', '1051', '3448\\n']\n",
      "\n",
      "18\n",
      "['33.0534620595,-97.471973912', '\"{\"\"type\"\": \"\"Point\"\", \"\"coordinates\"\": [-97.47197391200822, 33.0534620594626]}\"', '1345152', '2410930', 'Civil', '-999', 'Rhome', '1522', 'Wise', '497', 'TX', '48', '33.0534563', '-97.4719662', '33.0534563', '-97.4719662', '287', '942\\n']\n",
      "\n",
      "18\n",
      "['32.7668012432,-96.5991667737', '\"{\"\"type\"\": \"\"Point\"\", \"\"coordinates\"\": [-96.59916677367492, 32.766801243242476]}\"', '1341400', '2411090', 'Civil', '-999', 'Mesquite', '139824', 'Dallas', '113', 'TX', '48', '32.7667955', '-96.5991593', '32.7667955', '-96.5991593', '151', '495\\n']\n",
      "\n"
     ]
    }
   ],
   "source": [
    "csv_file_name = 'cities-and-towns-of-the-united-states.csv'\n",
    "my_file_name = 'Data/' + csv_file_name\n",
    "my_new_file_name = 'Data/' + 'Wrangled-' + csv_file_name\n",
    "\n",
    "# Open the file.\n",
    "\n",
    "fin = open(my_file_name, \"r\")\n",
    "line = fin.readline() #Read first line\n",
    "\n",
    "print(line)\n",
    "fields = line.split(';')\n",
    "print(len(fields))\n",
    "print(fields)\n",
    "print()\n",
    "\n",
    "for i in range(20):\n",
    "    line = fin.readline()\n",
    "    fields = line.split(';')\n",
    "    print(len(fields))\n",
    "    print(fields)\n",
    "    print()\n",
    "\n",
    "fin.close()"
   ]
  },
  {
   "cell_type": "markdown",
   "metadata": {},
   "source": [
    "## Decoding the data ...\n",
    "\n",
    "Notice how the separater in this file is `;` rather than a comma. Also notice the complexity of the data and the seming redundancy. There are 18 header items:\n",
    "\n",
    "0. Geo Point: is a lat, lon pair, e.g., 44.2998540717,-120.834480347\n",
    "1. Geo Shape: is a Json-like object, e.g., \"{\"\"type\"\": \"\"Point\"\", \"\"coordinates\"\": [-120.83448034701922, 44.299854071684514]}\"\n",
    "2. GNIS ID: is an integer, e.g., 1154317\n",
    "3. ANSICODE: is an integer, e.g., 2411494\n",
    "4. FEATURE: is a text descriptor, e.g., Civil\n",
    "5. FEATURE2: is a text descriptor, e.g., County Seat\n",
    "6. NAME: seems to be the name of the Feature, e.g., Prineville (the name of a city apparently)\n",
    "7. POP 2010: probably the population of the entity in 2010, e.g., 9253\n",
    "8. COUNTY: name, e.g., Crook\n",
    "9. COUNTY FIPS: a 3 digit integer uniquely identifying the county in the state, e.g., 013\n",
    "10. STATE: name abbreviation, e.g., OR\n",
    "11. STATE FIPS: a 2 digit code identifying the state, e.g., 41\n",
    "12. LATITUDE: similar number, e.g., 44.2998485, but with less precision\n",
    "13. LONGITUDE: similar number, e.g., -120.8344664, but with less precision\n",
    "14. PopPlLat: seems are repetition of the above number, e.g., 44.2998485\n",
    "15. PopPlLong: seems a repetition of the above number, e.g., -120.8344664\n",
    "16. ELEV IN M: 878\n",
    "17. ELEV IN FT: 2881\n",
    "\n",
    "To better understand some of these, it would be helpful to see the range of values that are present in the data. Of course, this can be easily done with excel.\n",
    "\n",
    "## In the next cell I pull out the information of interest ...\n",
    "\n",
    "Essentially what I need to create a \"location\" for each state-county pair. Then I might be able to create maps colored by data from the USDA web page.\n"
   ]
  },
  {
   "cell_type": "code",
   "execution_count": 3,
   "metadata": {},
   "outputs": [],
   "source": [
    "fin = open(my_file_name, \"r\")\n",
    "\n",
    "# This creates the file and, if aleady exists, erases any \n",
    "# old content\n",
    "fout = open(my_new_file_name, \"w\")\n",
    "fout.close() \n",
    "\n",
    "# Read the first line containing header and split the line \n",
    "# string into fields on the semi-colon separator. This returns a \n",
    "# list where each list element is one of comma delimited \n",
    "# strings. For the .csv files here there will be 18 \n",
    "# substrings in each line. They are numbered from 0 to 17. \n",
    "# We want to retain numbers\n",
    "# 4 ('FEATURE'), 5 ('FEATURE2'), 6 ('NAME'), 7('POP 2010'), \n",
    "# 8 ('COUNTY'), 9 ('COUNTY FIPS'), 10 ('STATE'), 11 ('STATE FIPS'), \n",
    "# 12 ('LATITUDE'), 13('LONGITUDE')\n",
    "#\n",
    "# The code below creates the header for the new csv file\n",
    "\n",
    "line = fin.readline()\n",
    "fin.close()\n",
    "\n",
    "fields = line.split(';')\n",
    "newline = fields[4] + ',' + fields[5] + ',' + fields[6] + ','\n",
    "newline = newline + fields[7] + ',' + fields[8] + ',' + fields[9] + ','\n",
    "newline = newline + fields[10] + ',' +fields[11] + ','\n",
    "newline = newline + fields[12] + ',' +fields[13]\n",
    "\n",
    "fout = open(my_new_file_name, \"a\")\n",
    "print(newline, file=fout)\n",
    "fout.close() \n",
    "\n",
    "# Now I want to go through the input csv line by line deleting \n",
    "# the superfluous fields and appending the new lines to the \n",
    "# \"wrangled\" file.\n",
    "\n",
    "fin = open(my_file_name, \"r\")\n",
    "fin.readline() # Read the header line and move to 2nd line\n",
    "\n",
    "# Define some sets so that we can record the unique values that certain\n",
    "# fields take ...\n",
    "\n",
    "f = set()\n",
    "f2 = set()\n",
    "state = set()\n",
    "\n",
    "fout = open(my_new_file_name, \"a\")\n",
    "\n",
    "for line in fin:\n",
    "    fields = line.split(';')\n",
    "    newline = fields[4] + ',' + fields[5] + ',' + fields[6] + ','\n",
    "    newline = newline + fields[7] + ',' + fields[8] + ',' + fields[9] + ','\n",
    "    newline = newline + fields[10] + ',' +fields[11] + ','\n",
    "    newline = newline + fields[12] + ',' +fields[13]    \n",
    "    print(newline, file=fout)\n",
    "    f.add(fields[4])\n",
    "    f2.add(fields[5])\n",
    "    state.add(fields[10])\n",
    "\n",
    "fin.close()\n",
    "fout.close()"
   ]
  },
  {
   "cell_type": "code",
   "execution_count": 4,
   "metadata": {},
   "outputs": [
    {
     "name": "stdout",
     "output_type": "stream",
     "text": [
      "The values taken by the Feature field are: {'Locale', 'Census', 'Place', 'Populated Place', 'Civil'}\n",
      "\n",
      "The values taken by the Feature2 field are: {'State Capital County Seat', '-999', 'State Capital', 'National Capital', 'County Seat'}\n",
      "\n",
      "The values taken by the State field are:\n",
      " {'DE', 'NE', 'AR', 'KY', 'VT', 'NH', 'PA', 'NV', 'MI', 'ID', 'VI', 'NC', 'CT', 'TN', 'OH', 'IN', 'AZ', 'WV', 'SD', 'OR', 'WI', 'AK', 'VA', 'ME', 'RI', 'ND', 'CA', 'TX', 'AL', 'IL', 'WY', 'WA', 'NM', 'LA', 'FL', 'KS', 'MA', 'MS', 'MO', 'NJ', 'CO', 'IA', 'MT', 'GA', 'OK', 'NY', 'SC', 'MN', 'HI', 'DC', 'MD', 'UT', 'PR'}\n"
     ]
    }
   ],
   "source": [
    "print(f'The values taken by the Feature field are: {f}\\n')\n",
    "print(f'The values taken by the Feature2 field are: {f2}\\n')\n",
    "print(f'The values taken by the State field are:\\n {state}')"
   ]
  },
  {
   "cell_type": "code",
   "execution_count": null,
   "metadata": {},
   "outputs": [],
   "source": []
  },
  {
   "cell_type": "code",
   "execution_count": null,
   "metadata": {},
   "outputs": [],
   "source": []
  },
  {
   "cell_type": "code",
   "execution_count": 5,
   "metadata": {},
   "outputs": [],
   "source": [
    "fin = open(my_new_file_name, \"r\")\n",
    "fin.readline() # Read the header line and move to 2nd line\n",
    "k = 0\n",
    "\n",
    "for line in fin:\n",
    "    fields = line.split(',')\n",
    "    T1 = fields[1] == 'State Capital County Seat'\n",
    "    T2 = fields[1] == 'County Seat'\n",
    "    if T1 or T2:\n",
    "        k = k + 1\n",
    "        \n",
    "fin.close()\n",
    "\n",
    "fin = open(my_new_file_name, \"r\")\n",
    "fin.readline() # Read the header line and move to 2nd line\n",
    "        \n",
    "x = np.zeros(k)\n",
    "y = np.zeros(k)\n",
    "\n",
    "l = 0\n",
    "for line in fin:\n",
    "    fields = line.split(',')\n",
    "    T1 = fields[1] == 'State Capital County Seat'\n",
    "    T2 = fields[1] == 'County Seat'\n",
    "    if T1 or T2:\n",
    "        x[l] = float(fields[9])\n",
    "        y[l] = float(fields[8])\n",
    "        l = l + 1\n",
    "\n",
    "fin.close()\n"
   ]
  },
  {
   "cell_type": "code",
   "execution_count": 6,
   "metadata": {},
   "outputs": [
    {
     "name": "stdout",
     "output_type": "stream",
     "text": [
      "3117\n",
      "[-120.8344664  -111.834388   -105.0166498  ... -103.5993477   -95.31316132\n",
      "  -72.4475994 ]\n",
      "3117\n",
      "[44.2998485 41.7354862 39.613321  ... 31.7051291 36.3008558 43.989788 ]\n"
     ]
    }
   ],
   "source": [
    "print(len(x))\n",
    "print(x)\n",
    "print(len(y))\n",
    "print(y)\n"
   ]
  },
  {
   "cell_type": "code",
   "execution_count": 7,
   "metadata": {},
   "outputs": [
    {
     "data": {
      "image/png": "[encoded data removed]",
      "text/plain": [
       "<Figure size 432x288 with 1 Axes>"
      ]
     },
     "metadata": {
      "needs_background": "light"
     },
     "output_type": "display_data"
    }
   ],
   "source": [
    "fig = plt.figure()\n",
    "plt.style.use('classic')\n",
    "plt.plot(x, y, '.')\n",
    "plt.title(\"Example Plot\")\n",
    "plt.xlabel(\"x\")\n",
    "plt.ylabel(\"y\")\n",
    "plt.grid()"
   ]
  },
  {
   "cell_type": "code",
   "execution_count": null,
   "metadata": {},
   "outputs": [],
   "source": []
  },
  {
   "attachments": {},
   "cell_type": "markdown",
   "metadata": {},
   "source": [
    "## Notice that the FIPS information is available in the USDA-NASS dataset ...\n",
    "\n",
    "Therefore, if I were able to create a dictionary indexed by state-county pairs or equivalently, FIPS, then we'd have a way to look up lat-lon pairs associated with state-county pairs. We could use either FIPS or state-county pair names as the indices.\n",
    "\n",
    "For more detail on dictionary methods: <a href=\"https://www.w3schools.com/python/python_ref_dictionary.asp\" target=\"_blank\">W3 - Python Dictionary Methods</a>\n",
    "\n",
    "\n",
    "### Let's try to make a dictionary where ...\n",
    "\n",
    "each key is a tuple of the `(state fips, county fips)` and a value is a tuple `(lat, lon)`\n",
    "\n",
    "Two of the counties where I farm in Colorado are Phillips and Sedgwick Counties. Here is the data from the county seat spreadsheet ...\n",
    "\n",
    "1. Julesburg is the county seat of Sedgwick County in Colorado. The fips are (8, 115) and the lat and lon are (40.9883258, -102.2643519).\n",
    "\n",
    "2. Holyoke is the county seat of Phillips County in Colorado. The fips are (8, 95) and the lat and lon are (40.5844369, -102.3024103).\n",
    "\n"
   ]
  },
  {
   "cell_type": "code",
   "execution_count": 8,
   "metadata": {},
   "outputs": [
    {
     "name": "stdout",
     "output_type": "stream",
     "text": [
      "{(8, 115): (40.9883258, -102.2643519)}\n"
     ]
    }
   ],
   "source": [
    "# Here's one way to make the prototype dictionary ...\n",
    "\n",
    "CountySeatDict = {}\n",
    "CountySeatDict.update({(8, 115): (40.9883258, -102.2643519)})\n",
    "print(CountySeatDict)"
   ]
  },
  {
   "cell_type": "code",
   "execution_count": 9,
   "metadata": {},
   "outputs": [
    {
     "name": "stdout",
     "output_type": "stream",
     "text": [
      "{(8, 115): (40.9883258, -102.2643519), (8, 95): (40.5844369, -102.3024103)}\n"
     ]
    }
   ],
   "source": [
    "CountySeatDict.update({(8, 95): (40.5844369, -102.3024103)})\n",
    "print(CountySeatDict)"
   ]
  },
  {
   "cell_type": "markdown",
   "metadata": {},
   "source": [
    "## Dictionary summary ...\n",
    "\n",
    "In a dictionary the values can be anything, but keys must be immutable objects such as integers, strings, or tuples. We have used tuples as the keys in the above CountySeatDict.\n",
    "\n",
    "There is no particular order of the key:value pairs in a dictionary. Internally, there is an ordering, which is chosen to enable fast lookup of the value associated with a particular key. Thus, a dictionary is meant to be an efficient implementation of the mapping from keys to values. This is precisely what we hope to achieve here - an efficient way to look up the lat, lon for a state-county pair.\n",
    "\n",
    "Dictionaries are mutable\n",
    "\n",
    "Operators that work on dictionaries:\n",
    "\n",
    "1. len()\n",
    "2. in ... Boolean test of membership, can test if a key is in the dictionary\n",
    "3. for ... allows iteration through the keys of a dictionary\n",
    "\n",
    "Important dictionary methods:\n",
    "\n",
    "1. items() ... iterates through key:value pairs as a list of tuples\n",
    "2. keys() ... all the keys as a list-like type\n",
    "3. values() ... all the values as a list-like type"
   ]
  },
  {
   "cell_type": "code",
   "execution_count": 10,
   "metadata": {},
   "outputs": [
    {
     "name": "stdout",
     "output_type": "stream",
     "text": [
      "2\n",
      "dict_items([((8, 115), (40.9883258, -102.2643519)), ((8, 95), (40.5844369, -102.3024103))])\n",
      "dict_values([(40.9883258, -102.2643519), (40.5844369, -102.3024103)])\n",
      "<class 'dict_items'>\n",
      "<class 'dict_values'>\n"
     ]
    }
   ],
   "source": [
    "# Try some of these\n",
    "\n",
    "print(len(CountySeatDict))\n",
    "\n",
    "print(CountySeatDict.items())\n",
    "print(CountySeatDict.values())\n",
    "\n",
    "print(type(CountySeatDict.items()))\n",
    "print(type(CountySeatDict.values()))"
   ]
  },
  {
   "cell_type": "markdown",
   "metadata": {},
   "source": [
    "## Types ...\n",
    "\n",
    "The types of these items are not quite lists. It is similar with the range command. Python calls these **view** objects. Here are some properties:\n",
    "\n",
    "1. A view object is iterable, i.e., can use them in a `for` loop.\n",
    "2. Although the order of key:value pairs is not determined, when we iterate with a for loop the relative order of keys and values will always correspond.\n",
    "3. View objects are dynamic. Once assigned, they will reflect an update made later to the dictionary.\n",
    "\n",
    "Let's add a few more entries to `CountySeatDict`"
   ]
  },
  {
   "cell_type": "code",
   "execution_count": 11,
   "metadata": {},
   "outputs": [],
   "source": [
    "CountySeatDict.update({(39, 53): (45.8206794, -120.8217312)})\n",
    "CountySeatDict.update({(33, 49): (41.6657759, -111.1821409)})\n",
    "CountySeatDict.update({(40, 27): (35.2265142, -97.46326079)})"
   ]
  },
  {
   "cell_type": "code",
   "execution_count": 12,
   "metadata": {},
   "outputs": [
    {
     "name": "stdout",
     "output_type": "stream",
     "text": [
      "((8, 115), (40.9883258, -102.2643519))\n",
      "((8, 95), (40.5844369, -102.3024103))\n",
      "((39, 53), (45.8206794, -120.8217312))\n",
      "((33, 49), (41.6657759, -111.1821409))\n",
      "((40, 27), (35.2265142, -97.46326079))\n"
     ]
    }
   ],
   "source": [
    "for thing in CountySeatDict.items():\n",
    "    print(thing)"
   ]
  },
  {
   "cell_type": "code",
   "execution_count": 13,
   "metadata": {},
   "outputs": [
    {
     "name": "stdout",
     "output_type": "stream",
     "text": [
      "(8, 115)\n",
      "(8, 95)\n",
      "(39, 53)\n",
      "(33, 49)\n",
      "(40, 27)\n"
     ]
    }
   ],
   "source": [
    "for thing in CountySeatDict.keys():\n",
    "    print(thing)"
   ]
  },
  {
   "cell_type": "code",
   "execution_count": 14,
   "metadata": {},
   "outputs": [
    {
     "name": "stdout",
     "output_type": "stream",
     "text": [
      "(40.9883258, -102.2643519)\n",
      "(40.5844369, -102.3024103)\n",
      "(45.8206794, -120.8217312)\n",
      "(41.6657759, -111.1821409)\n",
      "(35.2265142, -97.46326079)\n"
     ]
    }
   ],
   "source": [
    "for thing in CountySeatDict.values():\n",
    "    print(thing)"
   ]
  },
  {
   "cell_type": "code",
   "execution_count": 15,
   "metadata": {},
   "outputs": [
    {
     "name": "stdout",
     "output_type": "stream",
     "text": [
      "dict_keys([(8, 115), (8, 95), (39, 53), (33, 49), (40, 27)])\n"
     ]
    }
   ],
   "source": [
    "# Make a view object and demostrate that it is dynamic\n",
    "\n",
    "KeyThing = CountySeatDict.keys()\n",
    "print(KeyThing)"
   ]
  },
  {
   "cell_type": "code",
   "execution_count": 16,
   "metadata": {},
   "outputs": [],
   "source": [
    "# Update the dictionary but don't re-run the command defining KeyThing\n",
    "\n",
    "CountySeatDict.update({(48, 493): (29.1335781, -98.1561192)})"
   ]
  },
  {
   "cell_type": "code",
   "execution_count": 17,
   "metadata": {},
   "outputs": [
    {
     "name": "stdout",
     "output_type": "stream",
     "text": [
      "dict_keys([(8, 115), (8, 95), (39, 53), (33, 49), (40, 27), (48, 493)])\n"
     ]
    }
   ],
   "source": [
    "print(KeyThing)"
   ]
  },
  {
   "cell_type": "code",
   "execution_count": null,
   "metadata": {},
   "outputs": [],
   "source": []
  },
  {
   "cell_type": "markdown",
   "metadata": {},
   "source": [
    "## Creating the dictionary we needed ..."
   ]
  },
  {
   "cell_type": "code",
   "execution_count": 18,
   "metadata": {},
   "outputs": [],
   "source": [
    "# Just trying to read in the file line by line to create the dictionary above ...\n",
    "\n",
    "fin = open(my_new_file_name, \"r\")\n",
    "fin.readline() # Read the header line and move to 2nd line\n",
    "\n",
    "CountySeatDict = {}\n",
    "\n",
    "for line in fin:\n",
    "    fields = line.split(',')\n",
    "    if (fields[1] == 'State Capital County Seat') or (fields[1] == 'County Seat'):\n",
    "        sfips = int(fields[7])\n",
    "        cfips = int(fields[5])\n",
    "        fips = (sfips, cfips)\n",
    "        lat = float(fields[8])\n",
    "        lon = float(fields[9])\n",
    "        CountySeatDict.update({fips: (lat, lon)})\n",
    "\n",
    "fin.close()\n"
   ]
  },
  {
   "cell_type": "code",
   "execution_count": 19,
   "metadata": {},
   "outputs": [
    {
     "name": "stdout",
     "output_type": "stream",
     "text": [
      "3089\n"
     ]
    }
   ],
   "source": [
    "# How many do we have ...?\n",
    "\n",
    "print(len(CountySeatDict))"
   ]
  },
  {
   "cell_type": "markdown",
   "metadata": {},
   "source": [
    "### Check with google ... ?\n",
    "\n",
    "<a href=\"https://www.google.com/\" target=\"_blank\">How many counties in the US?</a>"
   ]
  },
  {
   "cell_type": "markdown",
   "metadata": {},
   "source": [
    "### Check some of the entries with maps.google.com ... \n",
    "\n",
    "<a href=\"https://www.google.com/maps/@40.420723,-86.9123206,15z\" target=\"_blank\">Enter some lats and lons.</a>"
   ]
  },
  {
   "cell_type": "code",
   "execution_count": 20,
   "metadata": {},
   "outputs": [
    {
     "data": {
      "text/plain": [
       "(40.9883258, -102.2643519)"
      ]
     },
     "execution_count": 20,
     "metadata": {},
     "output_type": "execute_result"
    }
   ],
   "source": [
    "CountySeatDict.get((8, 115))"
   ]
  },
  {
   "cell_type": "code",
   "execution_count": 21,
   "metadata": {},
   "outputs": [
    {
     "data": {
      "text/plain": [
       "(38.0299967, -107.3153335)"
      ]
     },
     "execution_count": 21,
     "metadata": {},
     "output_type": "execute_result"
    }
   ],
   "source": [
    "CountySeatDict.get((8, 53))"
   ]
  },
  {
   "cell_type": "markdown",
   "metadata": {},
   "source": [
    "Here is an amusing story about Alfred E. Packer ...\n",
    "\n",
    "<a href=\"https://www.washingtonpost.com/archive/politics/1984/04/18/man-who-ate-democrats-is-remembered-with-relish-by-colorados-gop/b6d95625-f702-4c07-9485-ca174698b261/\" target=\"_blank\">The man who ate almost all the democrats in Hinsdale County.</a>"
   ]
  },
  {
   "cell_type": "code",
   "execution_count": null,
   "metadata": {},
   "outputs": [],
   "source": []
  },
  {
   "cell_type": "code",
   "execution_count": null,
   "metadata": {},
   "outputs": [],
   "source": []
  },
  {
   "cell_type": "markdown",
   "metadata": {},
   "source": [
    "# HW: A program to read a text file and create a dictionary ...\n",
    "\n",
    "There are two text files in the Data subdirectory: JFKMoon.txt and MLKIHaveADream.txt. Here is something to work on ...\n",
    "\n",
    "1. Using the tools we've seen so far, read the files in line by line and create lists of the individual words in each line. There may be some extra characters, such as newline characters, that you will need to deal with as special cases.\n",
    "\n",
    "2. Create a program that does character count, word count, and line count on the file you input. There is a unix command that does the same thing, which you could use to compare. Word also has this utility.\n",
    "\n",
    "3. Now create a dictionary that shows the word frequency for each text file. The keys in the dictionary will be the unique words, the value associated with a key will be number of times a word appears in the text file.\n",
    "\n",
    "4. How could you modify your program in order to account for the fact that a capitalized word and its uncapitalized version are the same word?\n",
    "\n",
    "5. Are there other special cases to consider?"
   ]
  },
  {
   "cell_type": "code",
   "execution_count": null,
   "metadata": {},
   "outputs": [],
   "source": []
  },
  {
   "cell_type": "code",
   "execution_count": null,
   "metadata": {},
   "outputs": [],
   "source": []
  },
  {
   "cell_type": "code",
   "execution_count": null,
   "metadata": {},
   "outputs": [],
   "source": []
  }
 ],
 "metadata": {
  "kernelspec": {
   "display_name": "Python 3",
   "language": "python",
   "name": "python3"
  },
  "language_info": {
   "codemirror_mode": {
    "name": "ipython",
    "version": 3
   },
   "file_extension": ".py",
   "mimetype": "text/x-python",
   "name": "python",
   "nbconvert_exporter": "python",
   "pygments_lexer": "ipython3",
   "version": "3.8.8"
  }
 },
 "nbformat": 4,
 "nbformat_minor": 2
}
